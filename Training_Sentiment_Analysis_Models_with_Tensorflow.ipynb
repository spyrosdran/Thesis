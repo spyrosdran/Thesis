{
  "nbformat": 4,
  "nbformat_minor": 0,
  "metadata": {
    "colab": {
      "provenance": [],
      "toc_visible": true,
      "gpuType": "T4"
    },
    "kernelspec": {
      "name": "python3",
      "display_name": "Python 3"
    },
    "language_info": {
      "name": "python"
    },
    "accelerator": "GPU"
  },
  "cells": [
    {
      "cell_type": "markdown",
      "source": [
        "# **Training Sentiment Analysis Models with Tensorflow**\n",
        "\n"
      ],
      "metadata": {
        "id": "mrmhiES72Wtp"
      }
    },
    {
      "cell_type": "code",
      "source": [
        "# Connecting to Google Drive and retrieving the CSV file containing the reviews\n",
        "from google.colab import drive\n",
        "\n",
        "drive.mount('/content/gdrive/', force_remount=True)\n",
        "\n",
        "%cd gdrive/MyDrive/[PATH]"
      ],
      "metadata": {
        "id": "WPyProw7fLrI"
      },
      "execution_count": null,
      "outputs": []
    },
    {
      "cell_type": "code",
      "execution_count": 2,
      "metadata": {
        "id": "h1SjoumiKvTc",
        "colab": {
          "base_uri": "https://localhost:8080/"
        },
        "outputId": "b7ca2205-06d4-443b-c58e-b07d4bf3f16b"
      },
      "outputs": [
        {
          "output_type": "stream",
          "name": "stderr",
          "text": [
            "[nltk_data] Downloading package stopwords to /root/nltk_data...\n",
            "[nltk_data]   Unzipping corpora/stopwords.zip.\n",
            "[nltk_data] Downloading package wordnet to /root/nltk_data...\n"
          ]
        }
      ],
      "source": [
        "# Importing the libraries\n",
        "import tensorflow as tf\n",
        "import pandas as pd\n",
        "import numpy as np\n",
        "import keras\n",
        "import nltk\n",
        "import time\n",
        "nltk.download('stopwords')\n",
        "nltk.download('wordnet')\n",
        "from nltk.corpus import stopwords"
      ]
    },
    {
      "cell_type": "markdown",
      "source": [
        "# **Preparing the data**\n",
        "To begin, we have to prepare the data, so that it is ready to be read by the models"
      ],
      "metadata": {
        "id": "miL3242R2fPK"
      }
    },
    {
      "cell_type": "code",
      "source": [
        "# Reading the dataset and validating it\n",
        "df = pd.read_csv('IMDB Dataset.csv', sep=',')\n",
        "df.head()"
      ],
      "metadata": {
        "id": "EUyjdELgLFo7",
        "colab": {
          "base_uri": "https://localhost:8080/",
          "height": 206
        },
        "outputId": "88c23960-1086-404e-d54b-f8cba6df4225"
      },
      "execution_count": 3,
      "outputs": [
        {
          "output_type": "execute_result",
          "data": {
            "text/plain": [
              "                                              review sentiment\n",
              "0  One of the other reviewers has mentioned that ...  positive\n",
              "1  A wonderful little production. <br /><br />The...  positive\n",
              "2  I thought this was a wonderful way to spend ti...  positive\n",
              "3  Basically there's a family where a little boy ...  negative\n",
              "4  Petter Mattei's \"Love in the Time of Money\" is...  positive"
            ],
            "text/html": [
              "\n",
              "  <div id=\"df-5dcc78f1-45f0-4668-b337-7754743b9233\">\n",
              "    <div class=\"colab-df-container\">\n",
              "      <div>\n",
              "<style scoped>\n",
              "    .dataframe tbody tr th:only-of-type {\n",
              "        vertical-align: middle;\n",
              "    }\n",
              "\n",
              "    .dataframe tbody tr th {\n",
              "        vertical-align: top;\n",
              "    }\n",
              "\n",
              "    .dataframe thead th {\n",
              "        text-align: right;\n",
              "    }\n",
              "</style>\n",
              "<table border=\"1\" class=\"dataframe\">\n",
              "  <thead>\n",
              "    <tr style=\"text-align: right;\">\n",
              "      <th></th>\n",
              "      <th>review</th>\n",
              "      <th>sentiment</th>\n",
              "    </tr>\n",
              "  </thead>\n",
              "  <tbody>\n",
              "    <tr>\n",
              "      <th>0</th>\n",
              "      <td>One of the other reviewers has mentioned that ...</td>\n",
              "      <td>positive</td>\n",
              "    </tr>\n",
              "    <tr>\n",
              "      <th>1</th>\n",
              "      <td>A wonderful little production. &lt;br /&gt;&lt;br /&gt;The...</td>\n",
              "      <td>positive</td>\n",
              "    </tr>\n",
              "    <tr>\n",
              "      <th>2</th>\n",
              "      <td>I thought this was a wonderful way to spend ti...</td>\n",
              "      <td>positive</td>\n",
              "    </tr>\n",
              "    <tr>\n",
              "      <th>3</th>\n",
              "      <td>Basically there's a family where a little boy ...</td>\n",
              "      <td>negative</td>\n",
              "    </tr>\n",
              "    <tr>\n",
              "      <th>4</th>\n",
              "      <td>Petter Mattei's \"Love in the Time of Money\" is...</td>\n",
              "      <td>positive</td>\n",
              "    </tr>\n",
              "  </tbody>\n",
              "</table>\n",
              "</div>\n",
              "      <button class=\"colab-df-convert\" onclick=\"convertToInteractive('df-5dcc78f1-45f0-4668-b337-7754743b9233')\"\n",
              "              title=\"Convert this dataframe to an interactive table.\"\n",
              "              style=\"display:none;\">\n",
              "        \n",
              "  <svg xmlns=\"http://www.w3.org/2000/svg\" height=\"24px\"viewBox=\"0 0 24 24\"\n",
              "       width=\"24px\">\n",
              "    <path d=\"M0 0h24v24H0V0z\" fill=\"none\"/>\n",
              "    <path d=\"M18.56 5.44l.94 2.06.94-2.06 2.06-.94-2.06-.94-.94-2.06-.94 2.06-2.06.94zm-11 1L8.5 8.5l.94-2.06 2.06-.94-2.06-.94L8.5 2.5l-.94 2.06-2.06.94zm10 10l.94 2.06.94-2.06 2.06-.94-2.06-.94-.94-2.06-.94 2.06-2.06.94z\"/><path d=\"M17.41 7.96l-1.37-1.37c-.4-.4-.92-.59-1.43-.59-.52 0-1.04.2-1.43.59L10.3 9.45l-7.72 7.72c-.78.78-.78 2.05 0 2.83L4 21.41c.39.39.9.59 1.41.59.51 0 1.02-.2 1.41-.59l7.78-7.78 2.81-2.81c.8-.78.8-2.07 0-2.86zM5.41 20L4 18.59l7.72-7.72 1.47 1.35L5.41 20z\"/>\n",
              "  </svg>\n",
              "      </button>\n",
              "      \n",
              "  <style>\n",
              "    .colab-df-container {\n",
              "      display:flex;\n",
              "      flex-wrap:wrap;\n",
              "      gap: 12px;\n",
              "    }\n",
              "\n",
              "    .colab-df-convert {\n",
              "      background-color: #E8F0FE;\n",
              "      border: none;\n",
              "      border-radius: 50%;\n",
              "      cursor: pointer;\n",
              "      display: none;\n",
              "      fill: #1967D2;\n",
              "      height: 32px;\n",
              "      padding: 0 0 0 0;\n",
              "      width: 32px;\n",
              "    }\n",
              "\n",
              "    .colab-df-convert:hover {\n",
              "      background-color: #E2EBFA;\n",
              "      box-shadow: 0px 1px 2px rgba(60, 64, 67, 0.3), 0px 1px 3px 1px rgba(60, 64, 67, 0.15);\n",
              "      fill: #174EA6;\n",
              "    }\n",
              "\n",
              "    [theme=dark] .colab-df-convert {\n",
              "      background-color: #3B4455;\n",
              "      fill: #D2E3FC;\n",
              "    }\n",
              "\n",
              "    [theme=dark] .colab-df-convert:hover {\n",
              "      background-color: #434B5C;\n",
              "      box-shadow: 0px 1px 3px 1px rgba(0, 0, 0, 0.15);\n",
              "      filter: drop-shadow(0px 1px 2px rgba(0, 0, 0, 0.3));\n",
              "      fill: #FFFFFF;\n",
              "    }\n",
              "  </style>\n",
              "\n",
              "      <script>\n",
              "        const buttonEl =\n",
              "          document.querySelector('#df-5dcc78f1-45f0-4668-b337-7754743b9233 button.colab-df-convert');\n",
              "        buttonEl.style.display =\n",
              "          google.colab.kernel.accessAllowed ? 'block' : 'none';\n",
              "\n",
              "        async function convertToInteractive(key) {\n",
              "          const element = document.querySelector('#df-5dcc78f1-45f0-4668-b337-7754743b9233');\n",
              "          const dataTable =\n",
              "            await google.colab.kernel.invokeFunction('convertToInteractive',\n",
              "                                                     [key], {});\n",
              "          if (!dataTable) return;\n",
              "\n",
              "          const docLinkHtml = 'Like what you see? Visit the ' +\n",
              "            '<a target=\"_blank\" href=https://colab.research.google.com/notebooks/data_table.ipynb>data table notebook</a>'\n",
              "            + ' to learn more about interactive tables.';\n",
              "          element.innerHTML = '';\n",
              "          dataTable['output_type'] = 'display_data';\n",
              "          await google.colab.output.renderOutput(dataTable, element);\n",
              "          const docLink = document.createElement('div');\n",
              "          docLink.innerHTML = docLinkHtml;\n",
              "          element.appendChild(docLink);\n",
              "        }\n",
              "      </script>\n",
              "    </div>\n",
              "  </div>\n",
              "  "
            ]
          },
          "metadata": {},
          "execution_count": 3
        }
      ]
    },
    {
      "cell_type": "code",
      "source": [
        "# Removing break tags\n",
        "df['review'] = df['review'].str.replace('<br />', '')\n",
        "# Removing URLs\n",
        "df['review'] = df['review'].str.replace(r'https?://\\S+|www\\.\\S+', '')\n",
        "# Removing punctuation\n",
        "df['review'] = df['review'].str.replace(r'[^\\w\\s]+', '')\n",
        "# Removing new line characters\n",
        "df['review'] = df['review'].str.replace(r'\\n', '')\n",
        "# Converting the reviews to lowercase\n",
        "df['review'] = df['review'].apply(str.lower)\n",
        "# Validation\n",
        "df.head()"
      ],
      "metadata": {
        "id": "gJrhanPVQBFg",
        "colab": {
          "base_uri": "https://localhost:8080/",
          "height": 310
        },
        "outputId": "fdcd657c-cde5-45aa-dc0f-99af9f098355"
      },
      "execution_count": 4,
      "outputs": [
        {
          "output_type": "stream",
          "name": "stderr",
          "text": [
            "<ipython-input-4-be9d0192fd8c>:4: FutureWarning: The default value of regex will change from True to False in a future version.\n",
            "  df['review'] = df['review'].str.replace(r'https?://\\S+|www\\.\\S+', '')\n",
            "<ipython-input-4-be9d0192fd8c>:6: FutureWarning: The default value of regex will change from True to False in a future version.\n",
            "  df['review'] = df['review'].str.replace(r'[^\\w\\s]+', '')\n",
            "<ipython-input-4-be9d0192fd8c>:8: FutureWarning: The default value of regex will change from True to False in a future version.\n",
            "  df['review'] = df['review'].str.replace(r'\\n', '')\n"
          ]
        },
        {
          "output_type": "execute_result",
          "data": {
            "text/plain": [
              "                                              review sentiment\n",
              "0  one of the other reviewers has mentioned that ...  positive\n",
              "1  a wonderful little production the filming tech...  positive\n",
              "2  i thought this was a wonderful way to spend ti...  positive\n",
              "3  basically theres a family where a little boy j...  negative\n",
              "4  petter matteis love in the time of money is a ...  positive"
            ],
            "text/html": [
              "\n",
              "  <div id=\"df-16b3b168-a5a4-445d-a6b1-ec493679a9d3\">\n",
              "    <div class=\"colab-df-container\">\n",
              "      <div>\n",
              "<style scoped>\n",
              "    .dataframe tbody tr th:only-of-type {\n",
              "        vertical-align: middle;\n",
              "    }\n",
              "\n",
              "    .dataframe tbody tr th {\n",
              "        vertical-align: top;\n",
              "    }\n",
              "\n",
              "    .dataframe thead th {\n",
              "        text-align: right;\n",
              "    }\n",
              "</style>\n",
              "<table border=\"1\" class=\"dataframe\">\n",
              "  <thead>\n",
              "    <tr style=\"text-align: right;\">\n",
              "      <th></th>\n",
              "      <th>review</th>\n",
              "      <th>sentiment</th>\n",
              "    </tr>\n",
              "  </thead>\n",
              "  <tbody>\n",
              "    <tr>\n",
              "      <th>0</th>\n",
              "      <td>one of the other reviewers has mentioned that ...</td>\n",
              "      <td>positive</td>\n",
              "    </tr>\n",
              "    <tr>\n",
              "      <th>1</th>\n",
              "      <td>a wonderful little production the filming tech...</td>\n",
              "      <td>positive</td>\n",
              "    </tr>\n",
              "    <tr>\n",
              "      <th>2</th>\n",
              "      <td>i thought this was a wonderful way to spend ti...</td>\n",
              "      <td>positive</td>\n",
              "    </tr>\n",
              "    <tr>\n",
              "      <th>3</th>\n",
              "      <td>basically theres a family where a little boy j...</td>\n",
              "      <td>negative</td>\n",
              "    </tr>\n",
              "    <tr>\n",
              "      <th>4</th>\n",
              "      <td>petter matteis love in the time of money is a ...</td>\n",
              "      <td>positive</td>\n",
              "    </tr>\n",
              "  </tbody>\n",
              "</table>\n",
              "</div>\n",
              "      <button class=\"colab-df-convert\" onclick=\"convertToInteractive('df-16b3b168-a5a4-445d-a6b1-ec493679a9d3')\"\n",
              "              title=\"Convert this dataframe to an interactive table.\"\n",
              "              style=\"display:none;\">\n",
              "        \n",
              "  <svg xmlns=\"http://www.w3.org/2000/svg\" height=\"24px\"viewBox=\"0 0 24 24\"\n",
              "       width=\"24px\">\n",
              "    <path d=\"M0 0h24v24H0V0z\" fill=\"none\"/>\n",
              "    <path d=\"M18.56 5.44l.94 2.06.94-2.06 2.06-.94-2.06-.94-.94-2.06-.94 2.06-2.06.94zm-11 1L8.5 8.5l.94-2.06 2.06-.94-2.06-.94L8.5 2.5l-.94 2.06-2.06.94zm10 10l.94 2.06.94-2.06 2.06-.94-2.06-.94-.94-2.06-.94 2.06-2.06.94z\"/><path d=\"M17.41 7.96l-1.37-1.37c-.4-.4-.92-.59-1.43-.59-.52 0-1.04.2-1.43.59L10.3 9.45l-7.72 7.72c-.78.78-.78 2.05 0 2.83L4 21.41c.39.39.9.59 1.41.59.51 0 1.02-.2 1.41-.59l7.78-7.78 2.81-2.81c.8-.78.8-2.07 0-2.86zM5.41 20L4 18.59l7.72-7.72 1.47 1.35L5.41 20z\"/>\n",
              "  </svg>\n",
              "      </button>\n",
              "      \n",
              "  <style>\n",
              "    .colab-df-container {\n",
              "      display:flex;\n",
              "      flex-wrap:wrap;\n",
              "      gap: 12px;\n",
              "    }\n",
              "\n",
              "    .colab-df-convert {\n",
              "      background-color: #E8F0FE;\n",
              "      border: none;\n",
              "      border-radius: 50%;\n",
              "      cursor: pointer;\n",
              "      display: none;\n",
              "      fill: #1967D2;\n",
              "      height: 32px;\n",
              "      padding: 0 0 0 0;\n",
              "      width: 32px;\n",
              "    }\n",
              "\n",
              "    .colab-df-convert:hover {\n",
              "      background-color: #E2EBFA;\n",
              "      box-shadow: 0px 1px 2px rgba(60, 64, 67, 0.3), 0px 1px 3px 1px rgba(60, 64, 67, 0.15);\n",
              "      fill: #174EA6;\n",
              "    }\n",
              "\n",
              "    [theme=dark] .colab-df-convert {\n",
              "      background-color: #3B4455;\n",
              "      fill: #D2E3FC;\n",
              "    }\n",
              "\n",
              "    [theme=dark] .colab-df-convert:hover {\n",
              "      background-color: #434B5C;\n",
              "      box-shadow: 0px 1px 3px 1px rgba(0, 0, 0, 0.15);\n",
              "      filter: drop-shadow(0px 1px 2px rgba(0, 0, 0, 0.3));\n",
              "      fill: #FFFFFF;\n",
              "    }\n",
              "  </style>\n",
              "\n",
              "      <script>\n",
              "        const buttonEl =\n",
              "          document.querySelector('#df-16b3b168-a5a4-445d-a6b1-ec493679a9d3 button.colab-df-convert');\n",
              "        buttonEl.style.display =\n",
              "          google.colab.kernel.accessAllowed ? 'block' : 'none';\n",
              "\n",
              "        async function convertToInteractive(key) {\n",
              "          const element = document.querySelector('#df-16b3b168-a5a4-445d-a6b1-ec493679a9d3');\n",
              "          const dataTable =\n",
              "            await google.colab.kernel.invokeFunction('convertToInteractive',\n",
              "                                                     [key], {});\n",
              "          if (!dataTable) return;\n",
              "\n",
              "          const docLinkHtml = 'Like what you see? Visit the ' +\n",
              "            '<a target=\"_blank\" href=https://colab.research.google.com/notebooks/data_table.ipynb>data table notebook</a>'\n",
              "            + ' to learn more about interactive tables.';\n",
              "          element.innerHTML = '';\n",
              "          dataTable['output_type'] = 'display_data';\n",
              "          await google.colab.output.renderOutput(dataTable, element);\n",
              "          const docLink = document.createElement('div');\n",
              "          docLink.innerHTML = docLinkHtml;\n",
              "          element.appendChild(docLink);\n",
              "        }\n",
              "      </script>\n",
              "    </div>\n",
              "  </div>\n",
              "  "
            ]
          },
          "metadata": {},
          "execution_count": 4
        }
      ]
    },
    {
      "cell_type": "code",
      "source": [
        "import re\n",
        "# Definition of function that does the above procedure of cleaning the data\n",
        "def clean_text(text):\n",
        "  text = re.sub('<br />', ' ',text)\n",
        "  text = re.sub(r'https?://\\S+|www\\.\\S+', ' ',text)\n",
        "  text = re.sub(r'[^\\w\\s]+', ' ',text)\n",
        "  text = re.sub(r'\\n', ' ',text)\n",
        "  text = text.lower()\n",
        "  return str(text)"
      ],
      "metadata": {
        "id": "6VsV0xK8mcqi"
      },
      "execution_count": 5,
      "outputs": []
    },
    {
      "cell_type": "code",
      "source": [
        "# Tokenization and Lemmatization of the reviews, Removing stop words\n",
        "def lemmatize_text(text):\n",
        "  stop_words = set(stopwords.words('english'))\n",
        "  w_tokenizer = nltk.tokenize.WhitespaceTokenizer()\n",
        "  lemmatizer = nltk.stem.WordNetLemmatizer()\n",
        "  lemmatized = [lemmatizer.lemmatize(w) for w in w_tokenizer.tokenize(text)]\n",
        "  return [w for w in lemmatized if w not in stop_words]\n",
        "\n",
        "df['review'] = df['review'].apply(lemmatize_text)"
      ],
      "metadata": {
        "id": "4shqpmY9dOjY"
      },
      "execution_count": 6,
      "outputs": []
    },
    {
      "cell_type": "code",
      "source": [
        "# Binarizing the sentiment\n",
        "# 0 --> Negative\n",
        "# 1 --> Positive\n",
        "df['sentiment'] = df['sentiment'].replace('negative', 0.0)\n",
        "df['sentiment'] = df['sentiment'].replace('positive', 1.0)\n",
        "df.head()"
      ],
      "metadata": {
        "colab": {
          "base_uri": "https://localhost:8080/",
          "height": 206
        },
        "id": "0cpDWNyTU4SE",
        "outputId": "0320a42e-4d9c-4710-e61e-611cddc04221"
      },
      "execution_count": 7,
      "outputs": [
        {
          "output_type": "execute_result",
          "data": {
            "text/plain": [
              "                                              review  sentiment\n",
              "0  [one, reviewer, ha, mentioned, watching, 1, oz...        1.0\n",
              "1  [wonderful, little, production, filming, techn...        1.0\n",
              "2  [thought, wa, wonderful, way, spend, time, hot...        1.0\n",
              "3  [basically, family, little, boy, jake, think, ...        0.0\n",
              "4  [petter, matteis, love, time, money, visually,...        1.0"
            ],
            "text/html": [
              "\n",
              "  <div id=\"df-8b517596-1a7c-4e61-a76e-aedb9ebdbb4a\">\n",
              "    <div class=\"colab-df-container\">\n",
              "      <div>\n",
              "<style scoped>\n",
              "    .dataframe tbody tr th:only-of-type {\n",
              "        vertical-align: middle;\n",
              "    }\n",
              "\n",
              "    .dataframe tbody tr th {\n",
              "        vertical-align: top;\n",
              "    }\n",
              "\n",
              "    .dataframe thead th {\n",
              "        text-align: right;\n",
              "    }\n",
              "</style>\n",
              "<table border=\"1\" class=\"dataframe\">\n",
              "  <thead>\n",
              "    <tr style=\"text-align: right;\">\n",
              "      <th></th>\n",
              "      <th>review</th>\n",
              "      <th>sentiment</th>\n",
              "    </tr>\n",
              "  </thead>\n",
              "  <tbody>\n",
              "    <tr>\n",
              "      <th>0</th>\n",
              "      <td>[one, reviewer, ha, mentioned, watching, 1, oz...</td>\n",
              "      <td>1.0</td>\n",
              "    </tr>\n",
              "    <tr>\n",
              "      <th>1</th>\n",
              "      <td>[wonderful, little, production, filming, techn...</td>\n",
              "      <td>1.0</td>\n",
              "    </tr>\n",
              "    <tr>\n",
              "      <th>2</th>\n",
              "      <td>[thought, wa, wonderful, way, spend, time, hot...</td>\n",
              "      <td>1.0</td>\n",
              "    </tr>\n",
              "    <tr>\n",
              "      <th>3</th>\n",
              "      <td>[basically, family, little, boy, jake, think, ...</td>\n",
              "      <td>0.0</td>\n",
              "    </tr>\n",
              "    <tr>\n",
              "      <th>4</th>\n",
              "      <td>[petter, matteis, love, time, money, visually,...</td>\n",
              "      <td>1.0</td>\n",
              "    </tr>\n",
              "  </tbody>\n",
              "</table>\n",
              "</div>\n",
              "      <button class=\"colab-df-convert\" onclick=\"convertToInteractive('df-8b517596-1a7c-4e61-a76e-aedb9ebdbb4a')\"\n",
              "              title=\"Convert this dataframe to an interactive table.\"\n",
              "              style=\"display:none;\">\n",
              "        \n",
              "  <svg xmlns=\"http://www.w3.org/2000/svg\" height=\"24px\"viewBox=\"0 0 24 24\"\n",
              "       width=\"24px\">\n",
              "    <path d=\"M0 0h24v24H0V0z\" fill=\"none\"/>\n",
              "    <path d=\"M18.56 5.44l.94 2.06.94-2.06 2.06-.94-2.06-.94-.94-2.06-.94 2.06-2.06.94zm-11 1L8.5 8.5l.94-2.06 2.06-.94-2.06-.94L8.5 2.5l-.94 2.06-2.06.94zm10 10l.94 2.06.94-2.06 2.06-.94-2.06-.94-.94-2.06-.94 2.06-2.06.94z\"/><path d=\"M17.41 7.96l-1.37-1.37c-.4-.4-.92-.59-1.43-.59-.52 0-1.04.2-1.43.59L10.3 9.45l-7.72 7.72c-.78.78-.78 2.05 0 2.83L4 21.41c.39.39.9.59 1.41.59.51 0 1.02-.2 1.41-.59l7.78-7.78 2.81-2.81c.8-.78.8-2.07 0-2.86zM5.41 20L4 18.59l7.72-7.72 1.47 1.35L5.41 20z\"/>\n",
              "  </svg>\n",
              "      </button>\n",
              "      \n",
              "  <style>\n",
              "    .colab-df-container {\n",
              "      display:flex;\n",
              "      flex-wrap:wrap;\n",
              "      gap: 12px;\n",
              "    }\n",
              "\n",
              "    .colab-df-convert {\n",
              "      background-color: #E8F0FE;\n",
              "      border: none;\n",
              "      border-radius: 50%;\n",
              "      cursor: pointer;\n",
              "      display: none;\n",
              "      fill: #1967D2;\n",
              "      height: 32px;\n",
              "      padding: 0 0 0 0;\n",
              "      width: 32px;\n",
              "    }\n",
              "\n",
              "    .colab-df-convert:hover {\n",
              "      background-color: #E2EBFA;\n",
              "      box-shadow: 0px 1px 2px rgba(60, 64, 67, 0.3), 0px 1px 3px 1px rgba(60, 64, 67, 0.15);\n",
              "      fill: #174EA6;\n",
              "    }\n",
              "\n",
              "    [theme=dark] .colab-df-convert {\n",
              "      background-color: #3B4455;\n",
              "      fill: #D2E3FC;\n",
              "    }\n",
              "\n",
              "    [theme=dark] .colab-df-convert:hover {\n",
              "      background-color: #434B5C;\n",
              "      box-shadow: 0px 1px 3px 1px rgba(0, 0, 0, 0.15);\n",
              "      filter: drop-shadow(0px 1px 2px rgba(0, 0, 0, 0.3));\n",
              "      fill: #FFFFFF;\n",
              "    }\n",
              "  </style>\n",
              "\n",
              "      <script>\n",
              "        const buttonEl =\n",
              "          document.querySelector('#df-8b517596-1a7c-4e61-a76e-aedb9ebdbb4a button.colab-df-convert');\n",
              "        buttonEl.style.display =\n",
              "          google.colab.kernel.accessAllowed ? 'block' : 'none';\n",
              "\n",
              "        async function convertToInteractive(key) {\n",
              "          const element = document.querySelector('#df-8b517596-1a7c-4e61-a76e-aedb9ebdbb4a');\n",
              "          const dataTable =\n",
              "            await google.colab.kernel.invokeFunction('convertToInteractive',\n",
              "                                                     [key], {});\n",
              "          if (!dataTable) return;\n",
              "\n",
              "          const docLinkHtml = 'Like what you see? Visit the ' +\n",
              "            '<a target=\"_blank\" href=https://colab.research.google.com/notebooks/data_table.ipynb>data table notebook</a>'\n",
              "            + ' to learn more about interactive tables.';\n",
              "          element.innerHTML = '';\n",
              "          dataTable['output_type'] = 'display_data';\n",
              "          await google.colab.output.renderOutput(dataTable, element);\n",
              "          const docLink = document.createElement('div');\n",
              "          docLink.innerHTML = docLinkHtml;\n",
              "          element.appendChild(docLink);\n",
              "        }\n",
              "      </script>\n",
              "    </div>\n",
              "  </div>\n",
              "  "
            ]
          },
          "metadata": {},
          "execution_count": 7
        }
      ]
    },
    {
      "cell_type": "code",
      "source": [
        "# Seeing how many positive and negative reviews there are\n",
        "print(\"Positive Reviews: \" + str((df['sentiment']==1.0).sum()))\n",
        "print(\"Negative Reviews: \" + str((df['sentiment']==0.0).sum()))"
      ],
      "metadata": {
        "colab": {
          "base_uri": "https://localhost:8080/"
        },
        "id": "NZChyb7xi5aH",
        "outputId": "3d92f909-806a-496f-f2cb-aea3172bda83"
      },
      "execution_count": 8,
      "outputs": [
        {
          "output_type": "stream",
          "name": "stdout",
          "text": [
            "Positive Reviews: 25000\n",
            "Negative Reviews: 25000\n"
          ]
        }
      ]
    },
    {
      "cell_type": "code",
      "source": [
        "# Tokenizing the reviews to float vectors\n",
        "from keras.preprocessing.text import Tokenizer\n",
        "from keras.utils import pad_sequences\n",
        "max_words = 5000\n",
        "\n",
        "tokenizer = Tokenizer(filters='!\"#$%&()*+,-./:;<=>?@[\\\\]^_`{|}~\\t\\n', lower=True, num_words=max_words)\n",
        "tokenizer.fit_on_texts(df['review'])\n",
        "sequences = tokenizer.texts_to_sequences(df['review'])\n",
        "reviews_temp = pad_sequences(sequences)\n",
        "reviews = reviews_temp.astype(np.float32)"
      ],
      "metadata": {
        "id": "KmurCKmNZXEx"
      },
      "execution_count": 9,
      "outputs": []
    },
    {
      "cell_type": "code",
      "source": [
        "print(reviews)"
      ],
      "metadata": {
        "id": "zrBTF4GShTLq",
        "outputId": "03e4c64f-1b61-4a35-d934-078bdc02428e",
        "colab": {
          "base_uri": "https://localhost:8080/"
        }
      },
      "execution_count": 10,
      "outputs": [
        {
          "output_type": "stream",
          "name": "stdout",
          "text": [
            "[[0.000e+00 0.000e+00 0.000e+00 ... 7.840e+02 3.673e+03 3.510e+02]\n",
            " [0.000e+00 0.000e+00 0.000e+00 ... 1.753e+03 1.900e+01 1.340e+02]\n",
            " [0.000e+00 0.000e+00 0.000e+00 ... 3.300e+01 1.500e+01 1.150e+02]\n",
            " ...\n",
            " [0.000e+00 0.000e+00 0.000e+00 ... 2.650e+02 3.900e+02 3.588e+03]\n",
            " [0.000e+00 0.000e+00 0.000e+00 ... 1.844e+03 2.346e+03 6.030e+02]\n",
            " [0.000e+00 0.000e+00 0.000e+00 ... 8.980e+02 7.270e+02 1.000e+00]]\n"
          ]
        }
      ]
    },
    {
      "cell_type": "code",
      "source": [
        "# Splitting to train and test data\n",
        "from sklearn.model_selection import train_test_split\n",
        "\n",
        "# Categorizing the labels \"Positive\" and \"Negative\"\n",
        "labels = np.array(df['sentiment'])\n",
        "labels = tf.keras.utils.to_categorical(labels, 2, dtype=\"float32\")\n",
        "\n",
        "X_train, X_test, y_train, y_test = train_test_split(reviews, labels, random_state=0, train_size=0.8, test_size=0.2)"
      ],
      "metadata": {
        "id": "JhUtTrZ8fABk"
      },
      "execution_count": 11,
      "outputs": []
    },
    {
      "cell_type": "markdown",
      "source": [
        "# **Model Construction**\n",
        "The models consist of an embedding (input) layer, a hidden layer (LSTM, Bidirectional LSTM) and a dense layer (output)"
      ],
      "metadata": {
        "id": "Kpriym2Z208z"
      }
    },
    {
      "cell_type": "code",
      "source": [
        "from keras.models import Sequential\n",
        "from keras import layers\n",
        "from keras.optimizers import RMSprop, Adam\n",
        "from keras.callbacks import ModelCheckpoint\n",
        "\n",
        "# Single LSTM Layer Model\n",
        "model1 = Sequential()\n",
        "# We have max_words distinct words and we map them into vectors of size 20\n",
        "model1.add(layers.Embedding(max_words, 20))\n",
        "model1.add(layers.LSTM(20,dropout=0.3))\n",
        "model1.add(layers.Dense(2,activation='softmax'))\n",
        "\n",
        "model1.compile(optimizer='rmsprop', loss='categorical_crossentropy', metrics=['accuracy'])\n",
        "#Implementing model checkpoins to save the best metric and do not lose it on training.\n",
        "checkpoint1 = ModelCheckpoint(\"LSTM.hdf5\", monitor='val_accuracy', verbose=1,save_best_only=True, mode='auto', period=1,save_weights_only=False)\n",
        "history = model1.fit(X_train, y_train, epochs=2,validation_data=(X_test, y_test),callbacks=[checkpoint1])"
      ],
      "metadata": {
        "id": "Jyuf14L2f86Y",
        "colab": {
          "base_uri": "https://localhost:8080/"
        },
        "outputId": "f2cf21af-d797-4b6c-e0a9-60b638c034de"
      },
      "execution_count": 12,
      "outputs": [
        {
          "output_type": "stream",
          "name": "stderr",
          "text": [
            "WARNING:tensorflow:`period` argument is deprecated. Please use `save_freq` to specify the frequency in number of batches seen.\n"
          ]
        },
        {
          "output_type": "stream",
          "name": "stdout",
          "text": [
            "Epoch 1/2\n",
            "1250/1250 [==============================] - ETA: 0s - loss: 0.3616 - accuracy: 0.8378\n",
            "Epoch 1: val_accuracy improved from -inf to 0.88200, saving model to LSTM.hdf5\n",
            "1250/1250 [==============================] - 127s 95ms/step - loss: 0.3616 - accuracy: 0.8378 - val_loss: 0.2852 - val_accuracy: 0.8820\n",
            "Epoch 2/2\n",
            "1249/1250 [============================>.] - ETA: 0s - loss: 0.2614 - accuracy: 0.8950\n",
            "Epoch 2: val_accuracy improved from 0.88200 to 0.88920, saving model to LSTM.hdf5\n",
            "1250/1250 [==============================] - 46s 37ms/step - loss: 0.2616 - accuracy: 0.8950 - val_loss: 0.2735 - val_accuracy: 0.8892\n"
          ]
        }
      ]
    },
    {
      "cell_type": "code",
      "source": [
        "# Bidirectional LSTM Model\n",
        "model2 = Sequential()\n",
        "model2.add(layers.Embedding(max_words, 20))\n",
        "model2.add(layers.Bidirectional(layers.LSTM(20,dropout=0.3)))\n",
        "model2.add(layers.Dense(2,activation='softmax'))\n",
        "model2.compile(optimizer='rmsprop',loss='categorical_crossentropy', metrics=['accuracy'])\n",
        "\n",
        "#Implementing model checkpoins to save the best metric and do not lose it on training.\n",
        "checkpoint2 = ModelCheckpoint(\"BiLSTM.hdf5\", monitor='val_accuracy', verbose=1,save_best_only=True, mode='auto', period=1,save_weights_only=False)\n",
        "history = model2.fit(X_train, y_train, epochs=2,validation_data=(X_test, y_test),callbacks=[checkpoint2])"
      ],
      "metadata": {
        "id": "MbVLMFTbCHBD",
        "colab": {
          "base_uri": "https://localhost:8080/"
        },
        "outputId": "a7d8b1af-4c0f-4f64-cf40-158b1e60ae01"
      },
      "execution_count": 13,
      "outputs": [
        {
          "output_type": "stream",
          "name": "stderr",
          "text": [
            "WARNING:tensorflow:`period` argument is deprecated. Please use `save_freq` to specify the frequency in number of batches seen.\n"
          ]
        },
        {
          "output_type": "stream",
          "name": "stdout",
          "text": [
            "Epoch 1/2\n",
            "1250/1250 [==============================] - ETA: 0s - loss: 0.3702 - accuracy: 0.8320\n",
            "Epoch 1: val_accuracy improved from -inf to 0.88410, saving model to BiLSTM.hdf5\n",
            "1250/1250 [==============================] - 121s 94ms/step - loss: 0.3702 - accuracy: 0.8320 - val_loss: 0.2815 - val_accuracy: 0.8841\n",
            "Epoch 2/2\n",
            "1250/1250 [==============================] - ETA: 0s - loss: 0.2635 - accuracy: 0.8928\n",
            "Epoch 2: val_accuracy improved from 0.88410 to 0.88440, saving model to BiLSTM.hdf5\n",
            "1250/1250 [==============================] - 72s 57ms/step - loss: 0.2635 - accuracy: 0.8928 - val_loss: 0.2914 - val_accuracy: 0.8844\n"
          ]
        }
      ]
    },
    {
      "cell_type": "code",
      "source": [
        "# Testing the first model\n",
        "review = 'This cute animated short features two comic icons - Betty Boop and Henry.<br /><br />Henry is the bald, slightly portly boy from the comics who never speaks.<br /><br />Well here he does speak!<br /><br />He wants to get a puppy from Betty Boops pet store, and when he is left to mind the store - some hilarious hijinks ensue.<br /><br />Betty sings a song about pets, Henry gets in a battle with birds and a monkey, but everything works out in the end.'\n",
        "cleaned = clean_text(review)\n",
        "lemmatized = lemmatize_text(cleaned)\n",
        "sequence = tokenizer.texts_to_sequences(lemmatized)\n",
        "review_temp = pad_sequences(sequence)\n",
        "review = review_temp.astype(np.float32)\n",
        "prediction = model1.predict(review)"
      ],
      "metadata": {
        "colab": {
          "base_uri": "https://localhost:8080/"
        },
        "id": "JKDhmPXWvfqv",
        "outputId": "13e65ab3-c6a9-4e67-9214-956749920c2b"
      },
      "execution_count": 19,
      "outputs": [
        {
          "output_type": "stream",
          "name": "stdout",
          "text": [
            "2/2 [==============================] - 0s 5ms/step\n"
          ]
        }
      ]
    },
    {
      "cell_type": "code",
      "source": [
        "print(prediction)"
      ],
      "metadata": {
        "colab": {
          "base_uri": "https://localhost:8080/"
        },
        "id": "OwG8eSp9W3fU",
        "outputId": "40b983b2-b6cb-4e4b-9eb6-1f1c5e3d65d0"
      },
      "execution_count": 20,
      "outputs": [
        {
          "output_type": "stream",
          "name": "stdout",
          "text": [
            "[[0.49335474 0.50664526]\n",
            " [0.42232576 0.57767427]\n",
            " [0.44964248 0.5503575 ]\n",
            " [0.5241526  0.47584745]\n",
            " [0.5328421  0.46715793]\n",
            " [0.41016546 0.5898346 ]\n",
            " [0.4871574  0.51284266]\n",
            " [0.41872784 0.5812721 ]\n",
            " [0.5233345  0.4766655 ]\n",
            " [0.45808244 0.5419175 ]\n",
            " [0.45808244 0.5419175 ]\n",
            " [0.5233345  0.4766655 ]\n",
            " [0.49509588 0.50490415]\n",
            " [0.5233345  0.4766655 ]\n",
            " [0.48659435 0.5134057 ]\n",
            " [0.41016546 0.5898346 ]\n",
            " [0.51756066 0.48243934]\n",
            " [0.58433026 0.41566974]\n",
            " [0.37309277 0.6269072 ]\n",
            " [0.55656683 0.4434331 ]\n",
            " [0.5270482  0.47295183]\n",
            " [0.56597924 0.4340208 ]\n",
            " [0.4616829  0.5383171 ]\n",
            " [0.5233345  0.4766655 ]\n",
            " [0.41872784 0.5812721 ]\n",
            " [0.5233345  0.4766655 ]\n",
            " [0.52779055 0.47220948]\n",
            " [0.5574953  0.44250476]\n",
            " [0.6531915  0.34680852]\n",
            " [0.4299251  0.57007486]\n",
            " [0.5574953  0.44250476]\n",
            " [0.21766633 0.7823337 ]\n",
            " [0.5233345  0.4766655 ]\n",
            " [0.5233345  0.4766655 ]\n",
            " [0.41872784 0.5812721 ]\n",
            " [0.40987334 0.59012663]\n",
            " [0.51394033 0.48605967]\n",
            " [0.52779055 0.47220948]\n",
            " [0.45808244 0.54191756]\n",
            " [0.46168292 0.5383171 ]\n",
            " [0.44408056 0.5559194 ]\n",
            " [0.49733698 0.502663  ]\n",
            " [0.5326909  0.4673091 ]\n",
            " [0.4389907  0.5610093 ]\n",
            " [0.45989746 0.54010254]\n",
            " [0.48007917 0.51992077]]\n"
          ]
        }
      ]
    },
    {
      "cell_type": "markdown",
      "source": [
        "# **Interpreting the predicted values**\n",
        "In this section there are three ways to interpret the predicted values:\n",
        "\n",
        "1.   Using the mean value of each column\n",
        "2.   By counting the occurences of each label (positive / negative)\n",
        "3.   By keeping only the values above a certain threshold\n",
        "\n",
        "\n"
      ],
      "metadata": {
        "id": "tj9aeb6f0kMd"
      }
    },
    {
      "cell_type": "code",
      "source": [
        "# Visualizing the prediction\n",
        "import matplotlib.pyplot as plt\n",
        "\n",
        "fig = plt.figure(figsize=(16, 8))\n",
        "plt.imshow(prediction)\n",
        "plt.show()"
      ],
      "metadata": {
        "colab": {
          "base_uri": "https://localhost:8080/",
          "height": 676
        },
        "id": "yjTrzsA4y9L6",
        "outputId": "c27a3fa5-b0fe-4648-fd3b-212cdff8d037"
      },
      "execution_count": 21,
      "outputs": [
        {
          "output_type": "display_data",
          "data": {
            "text/plain": [
              "<Figure size 1600x800 with 1 Axes>"
            ],
            "image/png": "[encoded data removed]"
          },
          "metadata": {}
        }
      ]
    },
    {
      "cell_type": "code",
      "source": [
        "# Interpreting the output by taking the average of every column\n",
        "avg = prediction.mean(axis=0)\n",
        "\n",
        "print(avg[0] * 100, \"% negative\")\n",
        "print(avg[1] * 100, \"% positive\\n\")\n",
        "\n",
        "if(avg[0]>avg[1]):\n",
        "  print(\"The review is negative\")\n",
        "elif(avg[0]<avg[1]):\n",
        "  print(\"The review is positive\")\n",
        "else:\n",
        "  print(\"The review is neutral\")\n"
      ],
      "metadata": {
        "colab": {
          "base_uri": "https://localhost:8080/"
        },
        "id": "y1wNLjKp2Lg7",
        "outputId": "4ba455f6-b1e5-44e6-9e42-7645c5b7aa8f"
      },
      "execution_count": 22,
      "outputs": [
        {
          "output_type": "stream",
          "name": "stdout",
          "text": [
            "48.4814316034317 % negative\n",
            "51.51857137680054 % positive\n",
            "\n",
            "The review is positive\n"
          ]
        }
      ]
    },
    {
      "cell_type": "code",
      "source": [
        "# Interpreting the output by categorizing every word and then counting the positive and the negative words\n",
        "classified = []\n",
        "\n",
        "for item in prediction:\n",
        "  if item[0] > item[1]:\n",
        "    classified.append(0)\n",
        "  else:\n",
        "      classified.append(1)\n",
        "\n",
        "positive = sum(classified)\n",
        "negative = len(classified) - positive\n",
        "\n",
        "print(\"Positive words: \", positive)\n",
        "print(\"Negative words: \", negative)\n",
        "\n",
        "if(positive > negative):\n",
        "  print(\"The review is positive\")\n",
        "elif (positive < negative):\n",
        "  print(\"The review is negative\")\n",
        "else:\n",
        "  print(\"The review is neutral\")"
      ],
      "metadata": {
        "colab": {
          "base_uri": "https://localhost:8080/"
        },
        "id": "uZ4q2a3aae8z",
        "outputId": "163ec432-dbdd-4bd0-b74b-e18229ca0090"
      },
      "execution_count": 23,
      "outputs": [
        {
          "output_type": "stream",
          "name": "stdout",
          "text": [
            "Positive words:  25\n",
            "Negative words:  21\n",
            "The review is positive\n"
          ]
        }
      ]
    },
    {
      "cell_type": "code",
      "source": [
        "# Keeping only the values which are equal or greater than the threshold and then using the 2 above evaluation ways to interpret the output\n",
        "threshold = 0.6\n",
        "sorted_values = []\n",
        "\n",
        "for item in prediction:\n",
        "  if(item[0] >= threshold or item[1] >= threshold):\n",
        "    sorted_values.append(item)\n",
        "\n",
        "sorted_values = np.array(sorted_values)\n",
        "\n",
        "# Interpreting using the average\n",
        "print(\"Using the Mean Value:\\n\")\n",
        "\n",
        "avg = sorted_values.mean(axis=0)\n",
        "\n",
        "print(avg[0] * 100, \"% negative\")\n",
        "print(avg[1] * 100, \"% positive\")\n",
        "\n",
        "if(avg[0]>avg[1]):\n",
        "  print(\"The review is negative\")\n",
        "elif(avg[0]<avg[1]):\n",
        "  print(\"The review is positive\")\n",
        "else:\n",
        "  print(\"The review is neutral\")\n",
        "\n",
        "# Interpreting the output by categorizing every word and then counting the positive and the negative words\n",
        "print(\"\\nBy counting the positive and negative words:\\n\")\n",
        "\n",
        "classified = []\n",
        "\n",
        "for item in sorted_values:\n",
        "  if item[0] > item[1]:\n",
        "    classified.append(0)\n",
        "  else:\n",
        "      classified.append(1)\n",
        "\n",
        "positive = sum(classified)\n",
        "negative = len(classified) - positive\n",
        "\n",
        "print(\"Positive words: \", positive)\n",
        "print(\"Negative words: \", negative)\n",
        "\n",
        "if(positive > negative):\n",
        "  print(\"The review is positive\")\n",
        "elif (positive < negative):\n",
        "  print(\"The review is negative\")\n",
        "else:\n",
        "  print(\"The review is neutral\")"
      ],
      "metadata": {
        "colab": {
          "base_uri": "https://localhost:8080/"
        },
        "id": "6Bz2mhCmhAVV",
        "outputId": "2994e9b8-421f-4d56-836f-340e9096413c"
      },
      "execution_count": 24,
      "outputs": [
        {
          "output_type": "stream",
          "name": "stdout",
          "text": [
            "Using the Mean Value:\n",
            "\n",
            "41.465020179748535 % negative\n",
            "58.534979820251465 % positive\n",
            "The review is positive\n",
            "\n",
            "By counting the positive and negative words:\n",
            "\n",
            "Positive words:  2\n",
            "Negative words:  1\n",
            "The review is positive\n"
          ]
        }
      ]
    },
    {
      "cell_type": "markdown",
      "source": [
        "# **Distributed training strategies**\n",
        "In this section there is the code for 4 different strategies:\n",
        "\n",
        "\n",
        "1.   Mirrored Strategy\n",
        "2.   TPU Strategy\n",
        "3.   Central Storage Strategy\n",
        "4.   Parameter Server Strategy\n",
        "\n"
      ],
      "metadata": {
        "id": "o_IVYVSM1K-M"
      }
    },
    {
      "cell_type": "code",
      "source": [
        "# Testing Mirrored Strategy\n",
        "from keras.models import Sequential\n",
        "from keras import layers\n",
        "from keras.optimizers import RMSprop, Adam\n",
        "from keras.callbacks import ModelCheckpoint\n",
        "\n",
        "strategy = tf.distribute.MirroredStrategy()\n",
        "\n",
        "print('Number of devices: {}'.format(strategy.num_replicas_in_sync))\n",
        "\n",
        "with strategy.scope():\n",
        "  model1 = Sequential()\n",
        "  model1.add(layers.Embedding(max_words, 20))\n",
        "  model1.add(layers.LSTM(20,dropout=0.3))\n",
        "  model1.add(layers.Dense(2,activation='softmax'))\n",
        "  model1.compile(optimizer='rmsprop',loss='categorical_crossentropy', metrics=['accuracy'])\n",
        "\n",
        "checkpoint1 = ModelCheckpoint(\"best_model1.hdf5\", monitor='val_accuracy', verbose=1,save_best_only=True, mode='auto', period=1,save_weights_only=False)\n",
        "\n",
        "history = model1.fit(X_train, y_train, epochs=20,validation_data=(X_test, y_test),callbacks=[checkpoint1])"
      ],
      "metadata": {
        "id": "Xu_1zZPDWtZo"
      },
      "execution_count": null,
      "outputs": []
    },
    {
      "cell_type": "code",
      "source": [
        "# Create a TPUClusterResolver object\n",
        "resolver = tf.distribute.cluster_resolver.TPUClusterResolver(tpu='')\n",
        "\n",
        "# Get the number of available TPUs\n",
        "num_tpus = resolver.num_accelerators()\n",
        "\n",
        "print(\"Number of available TPUs: \", num_tpus)\n",
        "\n",
        "# Testing the TPU Strategy\n",
        "tf.config.experimental_connect_to_cluster(resolver)\n",
        "\n",
        "# This is the TPU initialization code that has to be at the beginning.\n",
        "tf.tpu.experimental.initialize_tpu_system(resolver)\n",
        "print(\"All devices: \", tf.config.list_logical_devices('TPU'))"
      ],
      "metadata": {
        "id": "8rRAD0LhRMaM"
      },
      "execution_count": null,
      "outputs": []
    },
    {
      "cell_type": "code",
      "source": [
        "# TPU Strategy\n",
        "from keras.models import Sequential\n",
        "from keras import layers\n",
        "from keras.optimizers import RMSprop, Adam\n",
        "from keras.callbacks import ModelCheckpoint\n",
        "\n",
        "strategy = tf.distribute.TPUStrategy(resolver)\n",
        "\n",
        "with strategy.scope():\n",
        "  model1 = Sequential()\n",
        "  model1.add(layers.Embedding(max_words, 20))\n",
        "  model1.add(layers.LSTM(20,dropout=0.3))\n",
        "  model1.add(layers.Dense(2,activation='softmax'))\n",
        "  model1.compile(optimizer='rmsprop',loss='categorical_crossentropy', metrics=['accuracy'])\n",
        "\n",
        "checkpoint1 = ModelCheckpoint(\"best_model1.hdf5\", monitor='val_accuracy', verbose=1,save_best_only=True, mode='auto', period=1,save_weights_only=False)\n",
        "\n",
        "history = model1.fit(X_train, y_train, epochs=20,validation_data=(X_test, y_test),callbacks=[tensorboard_callback])"
      ],
      "metadata": {
        "id": "DHFrzHbUUeuR"
      },
      "execution_count": null,
      "outputs": []
    },
    {
      "cell_type": "code",
      "source": [
        "# Central Storage Strategy\n",
        "from keras.models import Sequential\n",
        "from keras import layers\n",
        "from keras.optimizers import RMSprop, Adam\n",
        "from keras.callbacks import ModelCheckpoint\n",
        "\n",
        "strategy = tf.distribute.experimental.CentralStorageStrategy()\n",
        "\n",
        "with strategy.scope():\n",
        "  model1 = Sequential()\n",
        "  model1.add(layers.Embedding(max_words, 20))\n",
        "  model1.add(layers.LSTM(20,dropout=0.3))\n",
        "  model1.add(layers.Dense(2,activation='softmax'))\n",
        "  model1.compile(optimizer='rmsprop',loss='categorical_crossentropy', metrics=['accuracy'])\n",
        "\n",
        "checkpoint1 = ModelCheckpoint(\"best_model1.hdf5\", monitor='val_accuracy', verbose=1,save_best_only=True, mode='auto', period=1,save_weights_only=False)\n",
        "\n",
        "start = time.time()\n",
        "history = model1.fit(X_train, y_train, epochs=2,validation_data=(X_test, y_test),callbacks=[checkpoint1])\n",
        "end = time.time()\n",
        "print(end - start)"
      ],
      "metadata": {
        "id": "nOo53qiy_6KA"
      },
      "execution_count": null,
      "outputs": []
    },
    {
      "cell_type": "code",
      "source": [
        "# Parameter Server Strategy\n",
        "# Prepare a strategy to use with the cluster and variable partitioning info.\n",
        "strategy = tf.distribute.experimental.ParameterServerStrategy(\n",
        "    cluster_resolver=...,\n",
        "    variable_partitioner=...)\n",
        "\n",
        "# A dataset function takes a `input_context` and returns a `Dataset`\n",
        "def dataset_fn(input_context):\n",
        "  dataset = tf.data.Dataset.from_tensors(...)\n",
        "  return dataset.repeat().shard(...).batch(...).prefetch(...)\n",
        "\n",
        "# With `Model.fit`, a `DatasetCreator` needs to be used.\n",
        "input = tf.keras.utils.experimental.DatasetCreator(dataset_fn=...)\n",
        "\n",
        "with strategy.scope():\n",
        "  model = ...  # Make sure the `Model` is created within scope.\n",
        "model.compile(optimizer=\"rmsprop\", loss=\"mse\", steps_per_execution=..., ...)\n",
        "\n",
        "# Optional callbacks to checkpoint the model, back up the progress, etc.\n",
        "callbacks = [tf.keras.callbacks.ModelCheckpoint(...), ...]\n",
        "\n",
        "# `steps_per_epoch` is required with `ParameterServerStrategy`.\n",
        "model.fit(input, epochs=..., steps_per_epoch=..., callbacks=callbacks)"
      ],
      "metadata": {
        "id": "JBBqhU4a4Vwh"
      },
      "execution_count": null,
      "outputs": []
    }
  ]
}